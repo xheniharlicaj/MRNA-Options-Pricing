{
 "cells": [
  {
   "cell_type": "code",
   "execution_count": 38,
   "id": "af25db96-d7a0-4c25-b4b1-4b956ec83c2c",
   "metadata": {},
   "outputs": [
    {
     "name": "stdin",
     "output_type": "stream",
     "text": [
      "Enter the strike price (K):  70\n"
     ]
    },
    {
     "name": "stdout",
     "output_type": "stream",
     "text": [
      "Call Option Price for Strike Price 70.0: 16.30\n",
      "Calculated Call Option Price for Strike Price 70.0: 22.36\n",
      "Put Option Price for Strike Price 70.0: 1.16\n",
      "Calculated Put Option Price for Strike Price 70.0: 0.00\n",
      "Current Stock Price: 85.78\n",
      "Strike Price: 70.00\n"
     ]
    },
    {
     "name": "stdin",
     "output_type": "stream",
     "text": [
      "Do you want to enter another strike price? (y/n):  y\n",
      "Enter the strike price (K):  80\n"
     ]
    },
    {
     "name": "stdout",
     "output_type": "stream",
     "text": [
      "Call Option Price for Strike Price 80.0: 9.40\n",
      "Calculated Call Option Price for Strike Price 80.0: 13.30\n",
      "Put Option Price for Strike Price 80.0: 3.57\n",
      "Calculated Put Option Price for Strike Price 80.0: 0.00\n",
      "Current Stock Price: 85.78\n",
      "Strike Price: 80.00\n"
     ]
    },
    {
     "name": "stdin",
     "output_type": "stream",
     "text": [
      "Do you want to enter another strike price? (y/n):  y\n",
      "Enter the strike price (K):  85\n"
     ]
    },
    {
     "name": "stdout",
     "output_type": "stream",
     "text": [
      "Call Option Price for Strike Price 85.0: 6.45\n",
      "Calculated Call Option Price for Strike Price 85.0: 8.77\n",
      "Put Option Price for Strike Price 85.0: 5.90\n",
      "Calculated Put Option Price for Strike Price 85.0: 0.00\n",
      "Current Stock Price: 85.78\n",
      "Strike Price: 85.00\n"
     ]
    },
    {
     "name": "stdin",
     "output_type": "stream",
     "text": [
      "Do you want to enter another strike price? (y/n):  y\n",
      "Enter the strike price (K):  90\n"
     ]
    },
    {
     "name": "stdout",
     "output_type": "stream",
     "text": [
      "Call Option Price for Strike Price 90.0: 4.30\n",
      "Calculated Call Option Price for Strike Price 90.0: 4.24\n",
      "Put Option Price for Strike Price 90.0: 8.85\n",
      "Calculated Put Option Price for Strike Price 90.0: 0.00\n",
      "Current Stock Price: 85.78\n",
      "Strike Price: 90.00\n"
     ]
    },
    {
     "name": "stdin",
     "output_type": "stream",
     "text": [
      "Do you want to enter another strike price? (y/n):  y\n",
      "Enter the strike price (K):  100\n"
     ]
    },
    {
     "name": "stdout",
     "output_type": "stream",
     "text": [
      "Call Option Price for Strike Price 100.0: 1.75\n",
      "Calculated Call Option Price for Strike Price 100.0: 0.00\n",
      "Put Option Price for Strike Price 100.0: 16.05\n",
      "Calculated Put Option Price for Strike Price 100.0: 4.82\n",
      "Current Stock Price: 85.78\n",
      "Strike Price: 100.00\n"
     ]
    },
    {
     "name": "stdin",
     "output_type": "stream",
     "text": [
      "Do you want to enter another strike price? (y/n):  n\n"
     ]
    }
   ],
   "source": [
    "import yfinance as yf\n",
    "import numpy as np\n",
    "from scipy.stats import norm\n",
    "from datetime import datetime\n",
    "\n",
    "def black_scholes(S, K, T, r, sigma, option_type):\n",
    "    \n",
    "    d1 = (np.log(S / K) + (r + 0.5 * sigma ** 2) * T) / (sigma * np.sqrt(T))\n",
    "    d2 = d1 - sigma * np.sqrt(T)\n",
    "\n",
    "    if option_type == 'call':\n",
    "        option_price = S * norm.cdf(d1) - K * np.exp(-r * T) * norm.cdf(d2)\n",
    "    elif option_type == 'put':\n",
    "        option_price = K * np.exp(-r * T) * norm.cdf(-d2) - S * norm.cdf(-d1)\n",
    "    else:\n",
    "        raise ValueError(\"Option type must be 'call' or 'put'\")\n",
    "\n",
    "    return option_price\n",
    "\n",
    "def calculate_time_to_expiration(expiration_date):\n",
    "    today = datetime.now()\n",
    "    expiration_datetime = datetime.strptime(expiration_date, '%Y-%m-%d')\n",
    "    T = (expiration_datetime - today).days / 252  # Divide by 252 to express in years\n",
    "    return T\n",
    "\n",
    "stock_option = yf.Ticker(\"MRNA\")\n",
    "\n",
    "expiration_date = '2024-03-15'\n",
    "\n",
    "while True:\n",
    "    # We get the call and put option data for the specified expiration date\n",
    "    option_chain = stock_option.option_chain(expiration_date)\n",
    "\n",
    "    # Ask the user to input the strike price (K)\n",
    "    K = float(input(\"Enter the strike price (K): \"))\n",
    "\n",
    "    # Extract call and put prices for the specified strike price (K)\n",
    "    current_call_price = option_chain.calls[option_chain.calls['strike'] == K]['lastPrice'].iloc[0] if not option_chain.calls.empty else np.nan\n",
    "    current_put_price = option_chain.puts[option_chain.puts['strike'] == K]['lastPrice'].iloc[0] if not option_chain.puts.empty else np.nan\n",
    "\n",
    "    # Calculate remaining parameters and print results\n",
    "    stock_data = yf.Ticker(\"MRNA\").history(start=\"2000-01-01\")\n",
    "    \n",
    "    S = stock_data['Close'].iloc[-1]  # Current stock price\n",
    "    daily_returns = stock_data['Close'].pct_change().dropna()\n",
    "    sigma = daily_returns.ewm(span=252).std().iloc[-1]  # Assuming 252 trading days in a year\n",
    "    treasury_yield = yf.Ticker(\"MRNA\").history(period=\"1d\").Close.iloc[-1] / 100  # Convert percentage to decimal\n",
    "    r = treasury_yield\n",
    "    T = calculate_time_to_expiration(expiration_date)\n",
    "\n",
    "    call_price = black_scholes(S, K, T, r, sigma, 'call')\n",
    "    put_price = black_scholes(S, K, T, r, sigma, 'put')\n",
    "\n",
    "    print(f\"Call Option Price for Strike Price {K}: {current_call_price:.2f}\")\n",
    "    print(f\"Calculated Call Option Price for Strike Price {K}: {call_price:.2f}\")\n",
    "    print(f\"Put Option Price for Strike Price {K}: {current_put_price:.2f}\")\n",
    "    print(f\"Calculated Put Option Price for Strike Price {K}: {put_price:.2f}\")\n",
    "\n",
    "    call_difference = (1 - (call_price/current_call_price))*100\n",
    "    put_difference = (1 - (put_price/current_put_price))*100\n",
    "    print(f\"Current Stock Price: {S:.2f}\")\n",
    "    print(f\"Strike Price: {K:.2f}\")\n",
    "\n",
    "    # Ask user if they want to continue\n",
    "    cont = input(\"Do you want to enter another strike price? (y/n): \")\n",
    "    if cont.lower() != 'y':\n",
    "        break\n"
   ]
  }
 ],
 "metadata": {
  "kernelspec": {
   "display_name": "Python 3 (ipykernel)",
   "language": "python",
   "name": "python3"
  },
  "language_info": {
   "codemirror_mode": {
    "name": "ipython",
    "version": 3
   },
   "file_extension": ".py",
   "mimetype": "text/x-python",
   "name": "python",
   "nbconvert_exporter": "python",
   "pygments_lexer": "ipython3",
   "version": "3.12.1"
  }
 },
 "nbformat": 4,
 "nbformat_minor": 5
}
